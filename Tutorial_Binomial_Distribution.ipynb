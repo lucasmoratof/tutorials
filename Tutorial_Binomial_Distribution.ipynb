{
  "nbformat": 4,
  "nbformat_minor": 0,
  "metadata": {
    "colab": {
      "name": "Tutorial Binomial Distribution.ipynb",
      "provenance": [],
      "collapsed_sections": [],
      "authorship_tag": "ABX9TyPKA+jxF6fzcnBEswgcc9cs",
      "include_colab_link": true
    },
    "kernelspec": {
      "name": "python3",
      "display_name": "Python 3"
    }
  },
  "cells": [
    {
      "cell_type": "markdown",
      "metadata": {
        "id": "view-in-github",
        "colab_type": "text"
      },
      "source": [
        "<a href=\"https://colab.research.google.com/github/lucasmoratof/tutorials/blob/master/Tutorial_Binomial_Distribution.ipynb\" target=\"_parent\"><img src=\"https://colab.research.google.com/assets/colab-badge.svg\" alt=\"Open In Colab\"/></a>"
      ]
    },
    {
      "cell_type": "markdown",
      "metadata": {
        "id": "7WGEZ_lVFg16",
        "colab_type": "text"
      },
      "source": [
        "### Tutorial - Binomial Distribution\n",
        "\n",
        "This notebook is part of an article that you can find on my medium profile:\n",
        "\n",
        "https://medium.com/@lmmfrederico"
      ]
    },
    {
      "cell_type": "code",
      "metadata": {
        "id": "WTSQMAmVFcJy",
        "colab_type": "code",
        "colab": {}
      },
      "source": [
        "import numpy as np\n",
        "import matplotlib.pyplot as plt\n",
        "import seaborn as sns"
      ],
      "execution_count": 0,
      "outputs": []
    },
    {
      "cell_type": "markdown",
      "metadata": {
        "id": "3WbZ2495KTfD",
        "colab_type": "text"
      },
      "source": [
        "Generating the answers for the a group of 10 people:"
      ]
    },
    {
      "cell_type": "code",
      "metadata": {
        "id": "Y9Jf-9Y6F24H",
        "colab_type": "code",
        "outputId": "283b980a-d358-4845-fd45-faba01a3970f",
        "colab": {
          "base_uri": "https://localhost:8080/",
          "height": 83
        }
      },
      "source": [
        "# we plant the seed for reproducibility\n",
        "np.random.seed(24)\n",
        "\n",
        "# generating 10 random numbers between 0 and 1\n",
        "first_group_answers= np.random.random(size=10)\n",
        "print(first_group_answers)\n",
        "\n",
        "# if the number is equal or higher than 0.5, it's a YES\n",
        "yes_answers= first_group_answers >= 0.5\n",
        "print(yes_answers)\n",
        "\n",
        "# Summing up the yes answers for this group\n",
        "print(f\"Total number of positive answers for this group: {np.sum(yes_answers)}\")"
      ],
      "execution_count": 3,
      "outputs": [
        {
          "output_type": "stream",
          "text": [
            "[0.9600173  0.69951205 0.99986729 0.2200673  0.36105635 0.73984099\n",
            " 0.99645573 0.31634698 0.13654458 0.38398001]\n",
            "[ True  True  True False False  True  True False False False]\n",
            "Total number of positive answers for this group: 5\n"
          ],
          "name": "stdout"
        }
      ]
    },
    {
      "cell_type": "code",
      "metadata": {
        "id": "JGoY5h_tHzwV",
        "colab_type": "code",
        "outputId": "0ff97572-1db9-4700-b8b6-9d7db226ad64",
        "colab": {
          "base_uri": "https://localhost:8080/",
          "height": 35
        }
      },
      "source": [
        "np.random.seed(24)\n",
        "\n",
        "trump_wins= 0 # initiating a counter for groups with 6 or more positive answers\n",
        "\n",
        "for group in range(100000): # creating 100 thousand groups\n",
        "  answers= np.random.random(size= 10) # each group has 10 independent answers\n",
        "  yes_answers= np.sum(answers >= 0.5)\n",
        "  if yes_answers >= 6: # if we have 6 or more yes in that group, we increase our counter by one\n",
        "    trump_wins += 1\n",
        "\n",
        "prob_trump_wins = (trump_wins / 100000) * 100\n",
        "\n",
        "print(f\"There's a probability of {round(prob_trump_wins, 2)}% of Trump getting 6 or more supporters in each group.\")"
      ],
      "execution_count": 0,
      "outputs": [
        {
          "output_type": "stream",
          "text": [
            "There's a probability of 37.7% of Trump getting 6 or more supporters in each group.\n"
          ],
          "name": "stdout"
        }
      ]
    },
    {
      "cell_type": "code",
      "metadata": {
        "id": "yApt4uIzfU9D",
        "colab_type": "code",
        "colab": {
          "base_uri": "https://localhost:8080/",
          "height": 33
        },
        "outputId": "8a6b2348-357e-4256-a4db-d4d1244d22ce"
      },
      "source": [
        "np.random.seed(24) \n",
        "\n",
        "# calculating the number of successful outcomes (yes answers) for each group \n",
        "samples= np.random.binomial(10, 0.5, size= 100000)\n",
        "\n",
        "# initializing a counter \n",
        "trump_wins= 0\n",
        "\n",
        "for answers in samples:\n",
        "  if answers >= 6: # if there's 6 or more positive answers, increase the counter by one\n",
        "    trump_wins += 1\n",
        "\n",
        "# calculating the probability: number of wins divided by the total samples\n",
        "prob_trump_wins = (trump_wins / len(samples)) * 100\n",
        "\n",
        "print(f\"There's a probability of {round(prob_trump_wins, 2)}% of Trump getting 6 or more supporters in a group.\")"
      ],
      "execution_count": 16,
      "outputs": [
        {
          "output_type": "stream",
          "text": [
            "There's a probability of 37.69% of Trump getting 6 or more supporters in each group.\n"
          ],
          "name": "stdout"
        }
      ]
    },
    {
      "cell_type": "markdown",
      "metadata": {
        "id": "44GYuS9eX9DY",
        "colab_type": "text"
      },
      "source": [
        "### Simulation with an p= 0.4"
      ]
    },
    {
      "cell_type": "code",
      "metadata": {
        "id": "eUDYhom3COzR",
        "colab_type": "code",
        "colab": {
          "base_uri": "https://localhost:8080/",
          "height": 33
        },
        "outputId": "d431ee6b-08d4-4de0-9c5f-cf17dc244d88"
      },
      "source": [
        "np.random.seed(24) \n",
        "samples= np.random.binomial(10, 0.4, size= 100000)\n",
        "\n",
        "trump_wins= 0\n",
        "\n",
        "for answers in samples:\n",
        "  if answers >= 6: \n",
        "    trump_wins += 1\n",
        "\n",
        "prob_trump_wins = (trump_wins / len(samples)) * 100\n",
        "\n",
        "print(f\"There's a probability of {round(prob_trump_wins, 2)}% of Trump getting 6 or more supporters in a group.\")"
      ],
      "execution_count": 17,
      "outputs": [
        {
          "output_type": "stream",
          "text": [
            "There's a probability of 16.76% of Trump getting 6 or more supporters in a group.\n"
          ],
          "name": "stdout"
        }
      ]
    },
    {
      "cell_type": "markdown",
      "metadata": {
        "id": "KmmIG8etYRNW",
        "colab_type": "text"
      },
      "source": [
        "#### Simulation with p= 0.6"
      ]
    },
    {
      "cell_type": "code",
      "metadata": {
        "id": "Av2GA9d8YGEk",
        "colab_type": "code",
        "colab": {
          "base_uri": "https://localhost:8080/",
          "height": 33
        },
        "outputId": "6fbd7caf-f797-4740-ad70-eb645c5ac851"
      },
      "source": [
        "np.random.seed(24) \n",
        "samples= np.random.binomial(10, 0.6, size= 100000)\n",
        "\n",
        "trump_wins= 0\n",
        "\n",
        "for answers in samples:\n",
        "  if answers >= 6: \n",
        "    trump_wins += 1\n",
        "\n",
        "prob_trump_wins = (trump_wins / len(samples)) * 100\n",
        "\n",
        "print(f\"There's a probability of {round(prob_trump_wins, 2)}% of Trump getting 6 or more supporters in a group.\")"
      ],
      "execution_count": 18,
      "outputs": [
        {
          "output_type": "stream",
          "text": [
            "There's a probability of 63.27% of Trump getting 6 or more supporters in a group.\n"
          ],
          "name": "stdout"
        }
      ]
    },
    {
      "cell_type": "markdown",
      "metadata": {
        "id": "LYqf8yhLb6_l",
        "colab_type": "text"
      },
      "source": [
        "### ECDF plot"
      ]
    },
    {
      "cell_type": "code",
      "metadata": {
        "id": "CCo2oykE1wTy",
        "colab_type": "code",
        "colab": {
          "base_uri": "https://localhost:8080/",
          "height": 297
        },
        "outputId": "4be831ff-47bf-4f54-865d-ef9e7b417c7a"
      },
      "source": [
        "samples_40= np.random.binomial(10, 0.4, size= 100000)\n",
        "samples_50= np.random.binomial(10, 0.5, size= 100000)\n",
        "samples_60= np.random.binomial(10, 0.6, size= 100000)\n",
        "\n",
        "x_40= np.sort(samples_40)\n",
        "x_50= np.sort(samples_50)\n",
        "x_60= np.sort(samples_60)\n",
        "n= x.size\n",
        "y= np.arange(1, n+1) / n\n",
        "\n",
        "\n",
        "f, (ax1, ax2, ax3) = plt.subplots(1, 3, sharey=True, figsize=(18,4))\n",
        "ax1.scatter(x_40, y)\n",
        "ax1.set_title(\"p= 0.4\")\n",
        "\n",
        "ax2.scatter(x_50, y)\n",
        "ax2.set_title(\"p= 0.5\")\n",
        "\n",
        "ax3.scatter(x_60, y)\n",
        "ax3.set_title(\"p= 0.6\")\n",
        "\n",
        "f.text(0.5, 0.02, 'Number of positive answers for each group', ha='center')\n",
        "f.text(0.09, 0.5, '% of Distribution', va='center', rotation='vertical')\n",
        "plt.show()"
      ],
      "execution_count": 60,
      "outputs": [
        {
          "output_type": "display_data",
          "data": {
            "image/png": "[encoded data removed]",
            "text/plain": [
              "<Figure size 1296x288 with 3 Axes>"
            ]
          },
          "metadata": {
            "tags": []
          }
        }
      ]
    }
  ]
}