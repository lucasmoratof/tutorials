{
  "nbformat": 4,
  "nbformat_minor": 0,
  "metadata": {
    "colab": {
      "name": "Web Scraping for Begginers.ipynb",
      "provenance": [],
      "authorship_tag": "ABX9TyNuUnTuxAMSNtTZOpYd6ZNr",
      "include_colab_link": true
    },
    "kernelspec": {
      "name": "python3",
      "display_name": "Python 3"
    }
  },
  "cells": [
    {
      "cell_type": "markdown",
      "metadata": {
        "id": "view-in-github",
        "colab_type": "text"
      },
      "source": [
        "<a href=\"https://colab.research.google.com/github/lucasmoratof/tutorials/blob/master/Web_Scraping_for_Begginers.ipynb\" target=\"_parent\"><img src=\"https://colab.research.google.com/assets/colab-badge.svg\" alt=\"Open In Colab\"/></a>"
      ]
    },
    {
      "cell_type": "markdown",
      "metadata": {
        "id": "MoUQNZTOvq2_",
        "colab_type": "text"
      },
      "source": [
        "### Introduction to web scraping in python\n",
        "\n",
        "This notebook is part of a tutorial article that you can find on my profile:\n",
        "\n",
        "https://medium.com/@lmmfrederico"
      ]
    },
    {
      "cell_type": "code",
      "metadata": {
        "id": "SefPNpnYJFVA",
        "colab_type": "code",
        "colab": {}
      },
      "source": [
        "# importing the libraries\n",
        "from bs4 import BeautifulSoup\n",
        "import requests\n",
        "\n",
        "import pandas as pd"
      ],
      "execution_count": 0,
      "outputs": []
    },
    {
      "cell_type": "code",
      "metadata": {
        "id": "3SFT90sXJXmw",
        "colab_type": "code",
        "colab": {
          "base_uri": "https://localhost:8080/",
          "height": 35
        },
        "outputId": "b45c1ced-53e8-4492-feff-83673488b6e0"
      },
      "source": [
        "# using request to get the HTML data\n",
        "r= requests.get('http://books.toscrape.com/')\n",
        "\n",
        "# creating the soup, that will read the document and provide access to the information\n",
        "soup = BeautifulSoup(r.text, 'html.parser')\n",
        "\n",
        "# now our results will include information about each book\n",
        "results = soup.find_all(attrs={'class':'product_pod'})\n",
        "\n",
        "# let's check how many results we got\n",
        "len(results)"
      ],
      "execution_count": 32,
      "outputs": [
        {
          "output_type": "execute_result",
          "data": {
            "text/plain": [
              "20"
            ]
          },
          "metadata": {
            "tags": []
          },
          "execution_count": 32
        }
      ]
    },
    {
      "cell_type": "markdown",
      "metadata": {
        "id": "4tx5KfzHSaFQ",
        "colab_type": "text"
      },
      "source": [
        "### Exploring the first book to get name and price"
      ]
    },
    {
      "cell_type": "code",
      "metadata": {
        "id": "0ad5imVeKwec",
        "colab_type": "code",
        "colab": {
          "base_uri": "https://localhost:8080/",
          "height": 471
        },
        "outputId": "bbaaabc2-96da-463b-e0c7-73b775729eef"
      },
      "source": [
        "first_book = results[0]\n",
        "first_book"
      ],
      "execution_count": 4,
      "outputs": [
        {
          "output_type": "execute_result",
          "data": {
            "text/plain": [
              "<article class=\"product_pod\">\n",
              "<div class=\"image_container\">\n",
              "<a href=\"catalogue/a-light-in-the-attic_1000/index.html\"><img alt=\"A Light in the Attic\" class=\"thumbnail\" src=\"media/cache/2c/da/2cdad67c44b002e7ead0cc35693c0e8b.jpg\"/></a>\n",
              "</div>\n",
              "<p class=\"star-rating Three\">\n",
              "<i class=\"icon-star\"></i>\n",
              "<i class=\"icon-star\"></i>\n",
              "<i class=\"icon-star\"></i>\n",
              "<i class=\"icon-star\"></i>\n",
              "<i class=\"icon-star\"></i>\n",
              "</p>\n",
              "<h3><a href=\"catalogue/a-light-in-the-attic_1000/index.html\" title=\"A Light in the Attic\">A Light in the ...</a></h3>\n",
              "<div class=\"product_price\">\n",
              "<p class=\"price_color\">Â£51.77</p>\n",
              "<p class=\"instock availability\">\n",
              "<i class=\"icon-ok\"></i>\n",
              "    \n",
              "        In stock\n",
              "    \n",
              "</p>\n",
              "<form>\n",
              "<button class=\"btn btn-primary btn-block\" data-loading-text=\"Adding...\" type=\"submit\">Add to basket</button>\n",
              "</form>\n",
              "</div>\n",
              "</article>"
            ]
          },
          "metadata": {
            "tags": []
          },
          "execution_count": 4
        }
      ]
    },
    {
      "cell_type": "code",
      "metadata": {
        "id": "wDu_iy5rKcSn",
        "colab_type": "code",
        "colab": {
          "base_uri": "https://localhost:8080/",
          "height": 35
        },
        "outputId": "7048515f-7590-424d-cc9d-d2970473db82"
      },
      "source": [
        "# getting title name\n",
        "first_book.h3.a.get('title')"
      ],
      "execution_count": 11,
      "outputs": [
        {
          "output_type": "execute_result",
          "data": {
            "text/plain": [
              "'A Light in the Attic'"
            ]
          },
          "metadata": {
            "tags": []
          },
          "execution_count": 11
        }
      ]
    },
    {
      "cell_type": "code",
      "metadata": {
        "id": "y7ST_JU9K-at",
        "colab_type": "code",
        "colab": {
          "base_uri": "https://localhost:8080/",
          "height": 35
        },
        "outputId": "ff312b47-7ca3-4c24-cb92-4a989ad7ccfc"
      },
      "source": [
        "# getting book's price\n",
        "first_book.find('p', class_=\"price_color\").text[2:] # selecting from the 3rd charcater on to get just the price number"
      ],
      "execution_count": 17,
      "outputs": [
        {
          "output_type": "execute_result",
          "data": {
            "text/plain": [
              "'51.77'"
            ]
          },
          "metadata": {
            "tags": []
          },
          "execution_count": 17
        }
      ]
    },
    {
      "cell_type": "code",
      "metadata": {
        "id": "7CYD7AArQta6",
        "colab_type": "code",
        "colab": {}
      },
      "source": [
        "# creating the lists for names and prices\n",
        "names= []\n",
        "prices= []\n",
        "\n",
        "# Define the range of pages to work\n",
        "pages = [str(i) for i in range(1,51)] # range is exclusively, that's why we need to add 1 to the final number we want\n",
        "\n",
        "for page in pages:\n",
        "  response= requests.get('http://books.toscrape.com/catalogue/page-' + page + '.html')\n",
        "\n",
        "  page_html = BeautifulSoup(response.text, 'html.parser')\n",
        "\n",
        "  book_containers= page_html.find_all(attrs={'class':'product_pod'})\n",
        "\n",
        "  for book in book_containers:\n",
        "    names.append(book.h3.a.get('title'))\n",
        "    prices.append(book.find('p', class_=\"price_color\").text[2:])"
      ],
      "execution_count": 0,
      "outputs": []
    },
    {
      "cell_type": "code",
      "metadata": {
        "id": "JVPxXstLTfZc",
        "colab_type": "code",
        "colab": {
          "base_uri": "https://localhost:8080/",
          "height": 202
        },
        "outputId": "71508ad8-2d76-4fa4-a9c9-e7a4fd1f4259"
      },
      "source": [
        "# creating the data frame with the lists\n",
        "\n",
        "books_df= pd.DataFrame(list(zip(names, prices)), columns=['titles','prices (£)'])\n",
        "\n",
        "books_df.head()"
      ],
      "execution_count": 30,
      "outputs": [
        {
          "output_type": "execute_result",
          "data": {
            "text/html": [
              "<div>\n",
              "<style scoped>\n",
              "    .dataframe tbody tr th:only-of-type {\n",
              "        vertical-align: middle;\n",
              "    }\n",
              "\n",
              "    .dataframe tbody tr th {\n",
              "        vertical-align: top;\n",
              "    }\n",
              "\n",
              "    .dataframe thead th {\n",
              "        text-align: right;\n",
              "    }\n",
              "</style>\n",
              "<table border=\"1\" class=\"dataframe\">\n",
              "  <thead>\n",
              "    <tr style=\"text-align: right;\">\n",
              "      <th></th>\n",
              "      <th>titles</th>\n",
              "      <th>prices (£)</th>\n",
              "    </tr>\n",
              "  </thead>\n",
              "  <tbody>\n",
              "    <tr>\n",
              "      <th>0</th>\n",
              "      <td>A Light in the Attic</td>\n",
              "      <td>51.77</td>\n",
              "    </tr>\n",
              "    <tr>\n",
              "      <th>1</th>\n",
              "      <td>Tipping the Velvet</td>\n",
              "      <td>53.74</td>\n",
              "    </tr>\n",
              "    <tr>\n",
              "      <th>2</th>\n",
              "      <td>Soumission</td>\n",
              "      <td>50.10</td>\n",
              "    </tr>\n",
              "    <tr>\n",
              "      <th>3</th>\n",
              "      <td>Sharp Objects</td>\n",
              "      <td>47.82</td>\n",
              "    </tr>\n",
              "    <tr>\n",
              "      <th>4</th>\n",
              "      <td>Sapiens: A Brief History of Humankind</td>\n",
              "      <td>54.23</td>\n",
              "    </tr>\n",
              "  </tbody>\n",
              "</table>\n",
              "</div>"
            ],
            "text/plain": [
              "                                  titles prices (£)\n",
              "0                   A Light in the Attic      51.77\n",
              "1                     Tipping the Velvet      53.74\n",
              "2                             Soumission      50.10\n",
              "3                          Sharp Objects      47.82\n",
              "4  Sapiens: A Brief History of Humankind      54.23"
            ]
          },
          "metadata": {
            "tags": []
          },
          "execution_count": 30
        }
      ]
    },
    {
      "cell_type": "code",
      "metadata": {
        "id": "wsYRm5dusdK6",
        "colab_type": "code",
        "colab": {}
      },
      "source": [
        ""
      ],
      "execution_count": 0,
      "outputs": []
    }
  ]
}